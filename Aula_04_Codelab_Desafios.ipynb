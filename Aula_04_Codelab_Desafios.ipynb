{
  "nbformat": 4,
  "nbformat_minor": 0,
  "metadata": {
    "colab": {
      "name": "Aula_04_Codelab - Desafios.ipynb",
      "provenance": [],
      "include_colab_link": true
    },
    "kernelspec": {
      "name": "python3",
      "display_name": "Python 3"
    },
    "language_info": {
      "name": "python"
    }
  },
  "cells": [
    {
      "cell_type": "markdown",
      "metadata": {
        "id": "view-in-github",
        "colab_type": "text"
      },
      "source": [
        "<a href=\"https://colab.research.google.com/github/guilherme-correa-s/Blue_T3C5_mod1/blob/main/Aula_04_Codelab_Desafios.ipynb\" target=\"_parent\"><img src=\"https://colab.research.google.com/assets/colab-badge.svg\" alt=\"Open In Colab\"/></a>"
      ]
    },
    {
      "cell_type": "markdown",
      "metadata": {
        "id": "NRhLAMa6ZfqU"
      },
      "source": [
        "## **DESAFIO 01**\n",
        "\n",
        "**Reajuste salarial**\n",
        "\n",
        "As empresas @.com resolveram dar um aumento de salário aos seus colaboradores e lhe contrataram para desenvolver o programa que calculará os reajustes.\n",
        "\n",
        "Faça um programa que recebe o salário de um colaborador e o reajuste segundo o seguinte critério, baseado no salário atual:\n",
        "* salários até R$ 280,00 (incluindo) : aumento de 20%\n",
        "\n",
        "* salários entre R\\$ 280,00 e R$ 700,00 : aumento de 15%\n",
        "\n",
        "* salários entre R\\$ 700,00 e R$ 1500,00 : aumento de 10%\n",
        "\n",
        "* salários de R$ 1500,00 em diante : aumento de 5% \n",
        "\n",
        "Após o aumento ser realizado, informe na tela:\n",
        "* o salário antes do reajuste;\n",
        "\n",
        "* o percentual de aumento aplicado;\n",
        "\n",
        "* o valor do aumento;\n",
        "\n",
        "* o novo salário, após o aumento.\""
      ]
    },
    {
      "cell_type": "code",
      "metadata": {
        "id": "VpC5oZINZXzt"
      },
      "source": [
        ""
      ],
      "execution_count": null,
      "outputs": []
    },
    {
      "cell_type": "markdown",
      "metadata": {
        "id": "HvThpbU4aBGy"
      },
      "source": [
        "## **DESAFIO 02**\n",
        "\n",
        "**Jogo da adivinhação**\n",
        "\n",
        "Escreva um programa que faça o computador “pensar” em um número inteiro entre 0 e 10 e peça para o usuário tentar descobrir qual foi o número escolhido pelo computador. O programa deverá escrever na tela se o usuário venceu ou perdeu."
      ]
    },
    {
      "cell_type": "code",
      "metadata": {
        "id": "ufD4OzxkaN1X",
        "colab": {
          "base_uri": "https://localhost:8080/"
        },
        "outputId": "be0fad9e-8881-4f39-f9e8-dcd481909351"
      },
      "source": [
        "# importar bíblioteca Random\n",
        "import random\n",
        "# fazendo o computador 'pensar' em um número.\n",
        "numberRandom = random.randrange(0, 11)\n",
        "# pedir para o úsuario descobrir um número.\n",
        "numberUser = int(input('Tente advinhar o número que a máquina escolheu.\\nDigite um número inteiro de 0 a 10:\\n'))\n",
        "# verificar se o úsuario Venceu ou Perdeu.\n",
        "if numberUser == numberRandom:\n",
        "  print('Parabéns, você venceu! você adivinhou o número que a máquina pensou - >', numberRandom)\n",
        "else:\n",
        "  print('Você perdeu, o número que a máquina pensou ->', numberRandom)  \n"
      ],
      "execution_count": 89,
      "outputs": [
        {
          "output_type": "stream",
          "text": [
            "Tente advinhar o número que a máquina escolheu.\n",
            "Digite um número inteiro de 0 a 10:\n",
            "7\n",
            "Você perdeu, o número que a máquina pensou -> 1\n"
          ],
          "name": "stdout"
        }
      ]
    },
    {
      "cell_type": "markdown",
      "metadata": {
        "id": "mjLFAUooaOH1"
      },
      "source": [
        "## **Projeto da semana**\n",
        "\n",
        "**Caixa eletrônico**\n",
        "\n",
        "Faça um Programa para um caixa eletrônico. O programa deverá perguntar ao usuário a valor do saque e depois informar quantas notas de cada valor serão fornecidas. As notas disponíveis serão as de 1, 5, 10, 50 e 100 reais. O valor mínimo é de 10 reais e o máximo de 600 reais. O programa não deve se preocupar com a quantidade de notas existentes na máquina.\n",
        "\n",
        "* Exemplo 1: Para sacar a quantia de 256 reais, o programa fornece duas notas de 100, uma nota de 50, uma nota de 5 e uma nota de 1;\n",
        "\n",
        "* Exemplo 2: Para sacar a quantia de 399 reais, o programa fornece três notas de 100, uma nota de 50, quatro notas de 10, uma nota de 5 e quatro notas de 1.\n",
        "\n"
      ]
    },
    {
      "cell_type": "code",
      "metadata": {
        "id": "S7gbFodVawK1",
        "colab": {
          "base_uri": "https://localhost:8080/"
        },
        "outputId": "637dafbb-9ae2-49b3-f677-0943dcd701b8"
      },
      "source": [
        "# exibir para o úsuario a quantidade mín e max para saque.\n",
        "print('O valor mínimo para saque é de R$10 e o máximo é R$600.')\n",
        "# requisitar o valor de saque do úsuario\n",
        "valorSaqueUser = float(input('Digite o valor que você deseja sacar: ').replace(',','.'))\n",
        "# declarar valor das notas disponiveis\n",
        "nota100 = 100\n",
        "nota50 = 50\n",
        "nota10 = 10\n",
        "nota5 = 5\n",
        "nota1 = 1\n",
        "# váriaveis que receberão a qtd de notas que será usada no saque\n",
        "qtdNotas100 = 0\n",
        "qtdNotas50 = 0\n",
        "qtdNotas10 = 0\n",
        "qtdNotas5 = 0\n",
        "qtdNotas1 = 0\n",
        "\n",
        "# verificar se o valor é um número inteiro\n",
        "isInt = True;\n",
        "if float(valorSaqueUser)*10%10 != 0:\n",
        "  isInt = False\n",
        "else:\n",
        "  valorSaque = int(valorSaqueUser) # se não for float, transformamos em inteiro.  \n",
        "\n",
        "# verificar se o valor informado está entre os limites estipulados\n",
        "if valorSaque >= 10 and valorSaque <= 600 and isInt:\n",
        "  # verificar se vamos usar nota de R$100,00\n",
        "  if valorSaque >= nota100:\n",
        "    qtdNotas100 = int(valorSaque / nota100)\n",
        "    valorSaque = valorSaque - (qtdNotas100 * nota100)\n",
        "  # verificar se vamos usar nota de R$50,00\n",
        "  if valorSaque >= nota50:\n",
        "    qtdNotas50 = int(valorSaque / nota50)\n",
        "    valorSaque = valorSaque - (qtdNotas50 * nota50)\n",
        "  # verificar se vamos usar nota de R$10,00\n",
        "  if valorSaque >= nota10:\n",
        "    qtdNotas10 = int(valorSaque / nota10)\n",
        "    valorSaque = valorSaque - (qtdNotas10 * nota10)\n",
        "  # verificar se vamos usar nota de R$5,00\n",
        "  if valorSaque >= nota5:\n",
        "    qtdNotas5 = int(valorSaque / nota5)\n",
        "    valorSaque = valorSaque - (qtdNotas5 * nota5)\n",
        "  # verificar se vamos usar nota de R$1,00\n",
        "  if valorSaque >= nota1:\n",
        "    qtdNotas1 = int(valorSaque / nota1)\n",
        "    valorSaque = valorSaque - (qtdNotas1 * nota1)                \n",
        "else:\n",
        "  if not isInt:\n",
        "    print('Não é possivel sacar centavos. Favor informe um valor inteiro.')\n",
        "  else:  \n",
        "    print('Por favor, informe um valor entre R$10 e R$600. Tente novamente.')\n",
        "\n",
        "# informar o valor de saque    \n",
        "print(f'O saque de R${valorSaqueUser},00 irá usar:')\n",
        "# printar notas que vamos utilizar no saque\n",
        "if qtdNotas100 > 0: \n",
        "  print(f'{qtdNotas100} Nota(s) de R${nota100},00')                 \n",
        "if qtdNotas50 > 0: \n",
        "  print(f'{qtdNotas50} Nota(s) de R${nota50},00')                 \n",
        "if qtdNotas10 > 0: \n",
        "  print(f'{qtdNotas10} Nota(s) de R${nota10},00')                 \n",
        "if qtdNotas5 > 0: \n",
        "  print(f'{qtdNotas5} Nota(s) de R${nota5},00')                 \n",
        "if qtdNotas1 > 0: \n",
        "  print(f'{qtdNotas1} Nota(s) de R${nota1},00')     \n"
      ],
      "execution_count": 98,
      "outputs": [
        {
          "output_type": "stream",
          "text": [
            "O valor mínimo para saque é de R$10 e o máximo é R$600.\n",
            "Digite o valor que você deseja sacar: 168\n",
            "O saque de R$168.0,00 irá usar:\n",
            "1 Nota(s) de R$100,00\n",
            "1 Nota(s) de R$50,00\n",
            "1 Nota(s) de R$10,00\n",
            "1 Nota(s) de R$5,00\n",
            "3 Nota(s) de R$1,00\n"
          ],
          "name": "stdout"
        }
      ]
    }
  ]
}